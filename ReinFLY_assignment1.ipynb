{
  "cells": [
    {
      "cell_type": "markdown",
      "id": "a844eed3",
      "metadata": {
        "id": "a844eed3"
      },
      "source": [
        "<center>\n",
        "  <h1>Assignment 1: Developing Flappy Bird using pygame</h1>\n",
        "</center>\n",
        "\n",
        "![pygame logo](https://www.pygame.org/docs/_static/pygame_logo.png)\n"
      ]
    },
    {
      "cell_type": "markdown",
      "id": "a0ac5b33",
      "metadata": {
        "id": "a0ac5b33"
      },
      "source": [
        "This Python Notebook provides a code template where you'll need to complete logical sections of the code. After succesfully running the game, please submit the link to your colab notebook or drive over [here](https://forms.gle/9udc1qcoWDsBodF88)."
      ]
    },
    {
      "cell_type": "markdown",
      "id": "6d11e88d",
      "metadata": {
        "id": "6d11e88d"
      },
      "source": [
        "## Import necessary libraries"
      ]
    },
    {
      "cell_type": "code",
      "execution_count": 3,
      "id": "b0a6eeb7",
      "metadata": {
        "id": "b0a6eeb7"
      },
      "outputs": [],
      "source": [
        "import pygame\n",
        "import random"
      ]
    },
    {
      "cell_type": "markdown",
      "id": "712d2cd4",
      "metadata": {
        "id": "712d2cd4"
      },
      "source": [
        "## Define global constants"
      ]
    },
    {
      "cell_type": "code",
      "execution_count": 4,
      "id": "a1b38b2e",
      "metadata": {
        "id": "a1b38b2e"
      },
      "outputs": [],
      "source": [
        "# Game Variables \n",
        "# NOTE : Press any key to restart \n",
        "WIDTH, HEIGHT = 1024, 576\n",
        "GRAVITY = 0.25\n",
        "BIRD_JUMP = 7\n",
        "PIPE_GAP = 200\n",
        "PIPE_VELOCITY = 3\n",
        "BIRD_WIDTH, BIRD_HEIGHT = 30, 30\n",
        "PIPE_WIDTH, PIPE_HEIGHT = 50, 800\n",
        "BACKGROUND_COLOR = (0, 102, 204)\n"
      ]
    },
    {
      "cell_type": "markdown",
      "id": "73ee3d82",
      "metadata": {
        "id": "73ee3d82"
      },
      "source": [
        "## Load assets"
      ]
    },
    {
      "cell_type": "code",
      "execution_count": 5,
      "id": "aeaa52ff",
      "metadata": {
        "id": "aeaa52ff"
      },
      "outputs": [],
      "source": [
        "# Loading Images\n",
        "pipe_image = pygame.image.load('pipe.png')\n",
        "pipe_image = pygame.transform.scale(pipe_image,(PIPE_WIDTH, PIPE_HEIGHT))"
      ]
    },
    {
      "cell_type": "markdown",
      "id": "a5576d89",
      "metadata": {
        "id": "a5576d89"
      },
      "source": [
        "## Initialize Pygame and Set Up the Display"
      ]
    },
    {
      "cell_type": "code",
      "execution_count": 6,
      "id": "f8b636ce",
      "metadata": {
        "id": "f8b636ce"
      },
      "outputs": [],
      "source": [
        "pygame.init()\n",
        "screen = pygame.display.set_mode((WIDTH, HEIGHT))\n",
        "clock = pygame.time.Clock()\n",
        "font = pygame.font.SysFont('dejavuserif',60)"
      ]
    },
    {
      "cell_type": "markdown",
      "id": "5e2b2a5d",
      "metadata": {
        "id": "5e2b2a5d"
      },
      "source": [
        "## Making Bird and Pipe Classes"
      ]
    },
    {
      "cell_type": "code",
      "execution_count": 7,
      "id": "845b36f7",
      "metadata": {
        "id": "845b36f7"
      },
      "outputs": [],
      "source": [
        "# Bird class\n",
        "class Bird(pygame.sprite.Sprite):\n",
        "    def __init__(self):\n",
        "        pygame.sprite.Sprite.__init__(self)\n",
        "        self.state = [] #To store different flapping positions of bird\n",
        "        self.index = 0\n",
        "        for num in range(1,5) : # there should be bird1.png,bird2.png,bird3.png and bird4.png in the directory\n",
        "            image = pygame.image.load(f'bird{num}.png').convert_alpha()\n",
        "            image = pygame.transform.scale(image, (BIRD_HEIGHT,BIRD_WIDTH))\n",
        "            self.state.append(image)\n",
        "        self.image = self.state[self.index]  \n",
        "        self.rect = self.image.get_rect()\n",
        "        self.rect.center = (300,250)\n",
        "        self.vel = -10\n",
        "        self.counter = 0\n",
        "\n",
        "    def jump(self):\n",
        "        if pygame.mouse.get_pressed()[0] :\n",
        "            self.vel = -1* BIRD_JUMP\n",
        "        if self.vel > 10 :\n",
        "            self.vel = 10\n",
        "\n",
        "    def update(self):\n",
        "        self.rect.y += int(self.vel)\n",
        "        self.vel += GRAVITY\n",
        "        self.counter += 1\n",
        "        if self.counter >= 20 :\n",
        "            self.counter = 0 \n",
        "            self.index += 1\n",
        "        if self.index >= 4 :\n",
        "            self.index = 0 \n",
        "        self.image = self.state[self.index]\n",
        "\n",
        "    def draw(self):\n",
        "        bird_group.draw(screen)\n",
        "\n",
        "# Pipe class\n",
        "class Pipe(pygame.sprite.Sprite):\n",
        "    def __init__(self,x,y,inverted):\n",
        "        pygame.sprite.Sprite.__init__(self)\n",
        "        image = pygame.image.load('pipe.png')\n",
        "        self.image = pygame.transform.scale(image,(PIPE_WIDTH,PIPE_HEIGHT))\n",
        "        if inverted == True :\n",
        "            self.image = pygame.transform.flip(self.image, False, True)\n",
        "            self.rect = self.image.get_rect()\n",
        "            self.rect.midbottom = (x,y - PIPE_GAP)\n",
        "        else:\n",
        "            self.rect = self.image.get_rect()\n",
        "            self.rect.midtop = (x,y)\n",
        "\n",
        "    def update(self) :\n",
        "        self.rect.x -= PIPE_VELOCITY\n",
        "        if self.rect.x <= -20 :\n",
        "            self.kill()\n",
        "\n",
        "# setting the bird and pipes instances\n",
        "last_pipe = 0          \n",
        "bird_group = pygame.sprite.Group()\n",
        "bird = Bird()\n",
        "bird_group.add(bird)          \n",
        "pipe_group = pygame.sprite.Group()\n",
        "running = True\n",
        "Active = True\n",
        "pass_pipe = False\n",
        "score = 0\n"
      ]
    },
    {
      "cell_type": "markdown",
      "id": "bb0b0ad4",
      "metadata": {
        "id": "bb0b0ad4"
      },
      "source": [
        "## Collision detection function"
      ]
    },
    {
      "cell_type": "code",
      "execution_count": 8,
      "id": "967119ec",
      "metadata": {
        "id": "967119ec"
      },
      "outputs": [],
      "source": [
        "# Checking collisions\n",
        "def check_collision(group_1,group_2) :\n",
        "    if pygame.sprite.groupcollide(group_1,group_2,False,False) :  \n",
        "        return False\n",
        "    else :\n",
        "        return True"
      ]
    },
    {
      "cell_type": "markdown",
      "id": "20a1f0ef",
      "metadata": {
        "id": "20a1f0ef"
      },
      "source": [
        "## Main Game Loop"
      ]
    },
    {
      "cell_type": "code",
      "execution_count": 9,
      "id": "80855052",
      "metadata": {
        "id": "80855052"
      },
      "outputs": [],
      "source": [
        "# Game Loop\n",
        "while running :\n",
        "    for event in pygame.event.get() :\n",
        "        if event.type == pygame.QUIT :\n",
        "                running = False\n",
        "    current_time = pygame.time.get_ticks()\n",
        "    if current_time - last_pipe > 2000 and Active :\n",
        "        random_height = random.randint(200,576)\n",
        "        topPipe = Pipe(1044,random_height,False)\n",
        "        downPipe = Pipe(1044,random_height,True)\n",
        "        pipe_group.add(topPipe)\n",
        "        pipe_group.add(downPipe)\n",
        "        last_pipe = current_time\n",
        "\n",
        "    if len(pipe_group) > 0:\n",
        "        if bird_group.sprites()[0].rect.left > pipe_group.sprites()[0].rect.left\\\n",
        "        and bird_group.sprites()[0].rect.right < pipe_group.sprites()[0].rect.right\\\n",
        "        and pass_pipe == False:\n",
        "            pass_pipe = True\n",
        "    if pass_pipe == True and len(pipe_group) > 0 :\n",
        "        if bird_group.sprites()[0].rect.left > pipe_group.sprites()[0].rect.right:\n",
        "            score += 1\n",
        "            pass_pipe = False\n",
        "    screen.fill(BACKGROUND_COLOR)\n",
        "    text = font.render(f'Score : {str(score)}',True,(0,0,0))\n",
        "    bird.draw()\n",
        "    bird.jump()\n",
        "    pipe_group.draw(screen)\n",
        "    Active = check_collision(bird_group,pipe_group)\n",
        "    if Active :\n",
        "        bird_group.update()\n",
        "        pipe_group.update()\n",
        "    screen.blit(text,(400,30))\n",
        "    pygame.display.update()\n",
        "    clock.tick(60) \n",
        "    if not Active :\n",
        "        if 1 in pygame.key.get_pressed() :\n",
        "            bird_group.sprites()[0].rect.center = (300,250)\n",
        "            bird_group.sprites()[0].vel = 0\n",
        "            score = 0\n",
        "            pipe_group.empty()\n",
        "            Active = True"
      ]
    }
  ],
  "metadata": {
    "colab": {
      "provenance": []
    },
    "kernelspec": {
      "display_name": "Python 3 (ipykernel)",
      "language": "python",
      "name": "python3"
    },
    "language_info": {
      "codemirror_mode": {
        "name": "ipython",
        "version": 3
      },
      "file_extension": ".py",
      "mimetype": "text/x-python",
      "name": "python",
      "nbconvert_exporter": "python",
      "pygments_lexer": "ipython3",
      "version": "3.10.12"
    }
  },
  "nbformat": 4,
  "nbformat_minor": 5
}
